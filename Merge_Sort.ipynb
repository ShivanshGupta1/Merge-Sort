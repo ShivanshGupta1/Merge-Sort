{
  "nbformat": 4,
  "nbformat_minor": 0,
  "metadata": {
    "colab": {
      "name": "Merge Sort.ipynb",
      "provenance": [],
      "collapsed_sections": [],
      "authorship_tag": "ABX9TyP8BcRRRAbVP6lX6Hdzf/Hy",
      "include_colab_link": true
    },
    "kernelspec": {
      "name": "python3",
      "display_name": "Python 3"
    },
    "language_info": {
      "name": "python"
    }
  },
  "cells": [
    {
      "cell_type": "markdown",
      "metadata": {
        "id": "view-in-github",
        "colab_type": "text"
      },
      "source": [
        "<a href=\"https://colab.research.google.com/github/ShivanshGupta1/Merge-Sort/blob/main/Merge_Sort.ipynb\" target=\"_parent\"><img src=\"https://colab.research.google.com/assets/colab-badge.svg\" alt=\"Open In Colab\"/></a>"
      ]
    },
    {
      "cell_type": "code",
      "metadata": {
        "id": "3J0n_TfD4B1D"
      },
      "source": [
        "def mergeSort(arr,l,r):\n",
        "   if l < r:\n",
        "     \n",
        "     m = (l+(r-1))//2\n",
        "     mergeSort(arr,l,m)\n",
        "     mergeSort(arr,m+1,r)\n",
        "     merge(arr,l,m,r)\n",
        "    \n",
        "arr = [11,1,32,12]\n",
        "mergeSort(arr,0,len(arr)-1)\n",
        "print(arr)    \n"
      ],
      "execution_count": null,
      "outputs": []
    }
  ]
}